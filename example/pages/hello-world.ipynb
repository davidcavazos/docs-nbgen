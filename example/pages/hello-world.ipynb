{
 "cells": [
  {
   "cell_type": "markdown",
   "metadata": {
    "id": "setup"
   },
   "source": [
    "## Setup\n",
    "\n",
    "Create a virtual environment."
   ]
  },
  {
   "cell_type": "code",
   "execution_count": null,
   "metadata": {
    "id": "setup-code"
   },
   "outputs": [],
   "source": [
    "virtualenv env\n",
    "source env/bin/activate"
   ]
  },
  {
   "cell_type": "markdown",
   "metadata": {
    "id": "setup-2"
   },
   "source": [
    "Install the `docs-nbgen` module."
   ]
  },
  {
   "cell_type": "code",
   "execution_count": null,
   "metadata": {
    "id": "setup-code-2"
   },
   "outputs": [],
   "source": [
    "pip install docs-nbgen"
   ]
  },
  {
   "cell_type": "code",
   "execution_count": null,
   "metadata": {
    "id": "setup-code-2"
   },
   "outputs": [],
   "source": [
    "python -m pip install docs-nbgen"
   ]
  },
  {
   "cell_type": "markdown",
   "metadata": {
    "id": "docs-nbgen"
   },
   "source": [
    "# docs-nbgen\n",
    "\n",
    "Here's how to do a Hello World.\n",
    "\n",
    "{:.language-py}\n",
    "Here's in Python."
   ]
  },
  {
   "cell_type": "code",
   "execution_count": null,
   "metadata": {
    "id": "docs-nbgen-code"
   },
   "outputs": [],
   "source": [
    "print('Hello world!')"
   ]
  },
  {
   "cell_type": "markdown",
   "metadata": {
    "id": "docs-nbgen-2"
   },
   "source": [
    "{:.language-js}\n",
    "Here's in Javascript."
   ]
  },
  {
   "cell_type": "code",
   "execution_count": null,
   "metadata": {
    "id": "docs-nbgen-code-2"
   },
   "outputs": [],
   "source": [
    "console.log('Hello world!');"
   ]
  },
  {
   "cell_type": "markdown",
   "metadata": {
    "id": "clean-up"
   },
   "source": [
    "## Clean up\n",
    "\n",
    "You're all done 🎉🎉"
   ]
  }
 ],
 "metadata": {
  "colab": {
   "name": "Setup",
   "toc_visible": true
  },
  "kernelspec": {
   "display_name": "python3",
   "name": "python3"
  }
 },
 "nbformat": 4,
 "nbformat_minor": 2
}
