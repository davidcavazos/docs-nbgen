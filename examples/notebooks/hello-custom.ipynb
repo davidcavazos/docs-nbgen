{
 "cells": [
  {
   "cell_type": "markdown",
   "metadata": {
    "id": "view-in-github"
   },
   "source": [
    "<a href=\"https://colab.research.google.com/github/davidcavazos/md2ipynb/blob/master/examples/notebooks/hello.ipynb\" target=\"_parent\"><img src=\"https://colab.research.google.com/assets/colab-badge.svg\" alt=\"Open in Colab\"/></a>"
   ]
  },
  {
   "cell_type": "markdown",
   "metadata": {
    "id": "view-the-docs-top"
   },
   "source": [
    "<table align=\"left\"><td><a target=\"_blank\" href=\"https://github.com/davidcavazos/md2ipynb\"><img src=\"https://www.tensorflow.org/images/GitHub-Mark-32px.png\" width=\"32\" height=\"32\" />View the Docs</a></td></table>"
   ]
  },
  {
   "cell_type": "markdown",
   "metadata": {
    "id": "_"
   },
   "source": [
    "---"
   ]
  },
  {
   "cell_type": "code",
   "execution_count": null,
   "metadata": {
    "cellView": "form",
    "id": "_-code"
   },
   "outputs": [],
   "source": [
    "#@title Licensed under the Apache License, Version 2.0 (the \"License\")\n",
    "# Licensed under the Apache License, Version 2.0 (the \"License\");\n",
    "# you may not use this file except in compliance with the License.\n",
    "# You may obtain a copy of the License at\n",
    "#\n",
    "# http://www.apache.org/licenses/LICENSE-2.0\n",
    "#\n",
    "# Unless required by applicable law or agreed to in writing, software\n",
    "# distributed under the License is distributed on an \"AS IS\" BASIS,\n",
    "# WITHOUT WARRANTIES OR CONDITIONS OF ANY KIND, either express or implied.\n",
    "# See the License for the specific language governing permissions and\n",
    "# limitations under the License."
   ]
  },
  {
   "cell_type": "markdown",
   "metadata": {
    "id": "_-2"
   },
   "source": [
    "---"
   ]
  },
  {
   "cell_type": "markdown",
   "metadata": {
    "id": "hi-world"
   },
   "source": [
    "# Hi World!\n",
    "\n",
    "---\n",
    "\n",
    "This is a simple markdown page with GitHub code snippets.\n",
    "All this will be translated into a Jupyter notebook using the desired language.\n",
    "\n",
    "---"
   ]
  },
  {
   "cell_type": "markdown",
   "metadata": {
    "id": "setup"
   },
   "source": [
    "## Setup\n",
    "\n",
    "---\n",
    "\n",
    "Install the `md2ipynb` package.\n",
    "\n",
    "---"
   ]
  },
  {
   "cell_type": "code",
   "execution_count": null,
   "metadata": {
    "id": "setup-code"
   },
   "outputs": [],
   "source": [
    "!pip install -U md2ipynb"
   ]
  },
  {
   "cell_type": "markdown",
   "metadata": {
    "id": "setup-2"
   },
   "source": [
    "---"
   ]
  },
  {
   "cell_type": "markdown",
   "metadata": {
    "id": "example"
   },
   "source": [
    "## Example\n",
    "\n",
    "---\n",
    "\n",
    "Here is a code sample:\n",
    "\n",
    "---"
   ]
  },
  {
   "cell_type": "code",
   "execution_count": null,
   "metadata": {
    "id": "example-code"
   },
   "outputs": [],
   "source": [
    "# Hi world in Python.\n",
    "print('Hi from Python!')"
   ]
  },
  {
   "cell_type": "markdown",
   "metadata": {
    "id": "example-2"
   },
   "source": [
    "---\n",
    "\n",
    "</p><table>\n",
    "  <td>\n",
    "    <a target=\"_blank\" class=\"button\" href=\"https://colab.research.google.com/github//davidcavazos/md2ipynb/blob/master/examples/notebooks/example.ipynb\">\n",
    "      <img src=\"https://www.tensorflow.org/images/colab_logo_32px.png\" width=\"20px\" height=\"20px\"/>\n",
    "      Run in Colab\n",
    "    </a>\n",
    "  </td>\n",
    "  <td style=\"padding-left:1em\">\n",
    "    <a target=\"_blank\" class=\"button\" href=\"https://github.com//davidcavazos/md2ipynb/blob/master/examples/code/hello-world.py\">\n",
    "      <img src=\"https://www.tensorflow.org/images/GitHub-Mark-32px.png\" width=\"20px\" height=\"20px\"/>\n",
    "      View on GitHub\n",
    "    </a>\n",
    "  </td>\n",
    "</table>\n",
    "<br/>\n",
    "\n",
    "---\n",
    "\n",
    "You are all done!\n",
    "\n",
    "---"
   ]
  },
  {
   "cell_type": "markdown",
   "metadata": {
    "id": "html-section"
   },
   "source": [
    "## HTML Section\n",
    "\n",
    "---\n",
    "\n",
    "<p>HTML is also supported since Markdown is a superset of HTML</p>\n",
    "\n",
    "---"
   ]
  },
  {
   "cell_type": "markdown",
   "metadata": {
    "id": "form-view"
   },
   "source": [
    "## Form view\n",
    "\n",
    "---\n",
    "\n",
    "In \"form view\", a code cell's contents will be hidden by default in\n",
    "[Colab](https://colab.research.google.com).\n",
    "You can open and close the contents by double clicking it.\n",
    "\n",
    "---"
   ]
  },
  {
   "cell_type": "code",
   "execution_count": null,
   "metadata": {
    "cellView": "form",
    "id": "form-view-code"
   },
   "outputs": [],
   "source": [
    "#@title A code cell containing `#@title`\n",
    "# Contents will be hidden in Colab"
   ]
  },
  {
   "cell_type": "markdown",
   "metadata": {
    "id": "form-view-2"
   },
   "source": [
    "---\n",
    "\n",
    "Or, a code cell containing `#@param`.\n",
    "\n",
    "---"
   ]
  },
  {
   "cell_type": "code",
   "execution_count": null,
   "metadata": {
    "cellView": "form",
    "id": "form-view-code-2"
   },
   "outputs": [],
   "source": [
    "message = \"Hi!\" #@param {type:\"string\"}\n",
    "\n",
    "print(f\"message: {repr(message)}\")"
   ]
  },
  {
   "cell_type": "markdown",
   "metadata": {
    "id": "form-view-3"
   },
   "source": [
    "---"
   ]
  },
  {
   "cell_type": "markdown",
   "metadata": {
    "id": "what-s-next"
   },
   "source": [
    "## What's next\n",
    "\n",
    "---\n",
    "\n",
    "Check the [README.md](https://github.com/davidcavazos/md2ipynb/blob/master/README.md) for more instructions.\n",
    "\n",
    "---"
   ]
  },
  {
   "cell_type": "markdown",
   "metadata": {
    "id": "clean-up"
   },
   "source": [
    "## Clean up\n",
    "\n",
    "---\n",
    "\n",
    "You're all done 🎉🎉\n",
    "\n",
    "---"
   ]
  },
  {
   "cell_type": "markdown",
   "metadata": {
    "id": "view-the-docs-bottom"
   },
   "source": [
    "<table align=\"left\"><td><a target=\"_blank\" href=\"https://github.com/davidcavazos/md2ipynb\"><img src=\"https://www.tensorflow.org/images/GitHub-Mark-32px.png\" width=\"32\" height=\"32\" />View the Docs</a></td></table>"
   ]
  }
 ],
 "metadata": {
  "colab": {
   "name": "Hello md2ipynb!",
   "toc_visible": true
  },
  "kernelspec": {
   "display_name": "python3",
   "name": "python3"
  }
 },
 "nbformat": 4,
 "nbformat_minor": 2
}
