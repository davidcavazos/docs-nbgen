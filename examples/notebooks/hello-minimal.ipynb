{
 "cells": [
  {
   "cell_type": "markdown",
   "metadata": {
    "id": "hello-world"
   },
   "source": [
    "# Hello World!\n",
    "\n",
    "This is a simple markdown page with GitHub code snippets.\n",
    "All this will be translated into a Jupyter notebook using the desired language."
   ]
  },
  {
   "cell_type": "markdown",
   "metadata": {
    "id": "example"
   },
   "source": [
    "## Example\n",
    "\n",
    "Here is a code sample:"
   ]
  },
  {
   "cell_type": "code",
   "execution_count": null,
   "metadata": {
    "id": "example-code"
   },
   "outputs": [],
   "source": [
    "# Hello world in Python.\n",
    "print('Hello from Python!')"
   ]
  },
  {
   "cell_type": "markdown",
   "metadata": {
    "id": "example-2"
   },
   "source": [
    "</p><table>\n",
    "  <td>\n",
    "    <a target=\"_blank\" class=\"button\" href=\"https://colab.research.google.com/github//davidcavazos/md2ipynb/blob/master/examples/notebooks/hello-world-py.ipynb\">\n",
    "      <img src=\"https://www.tensorflow.org/images/colab_logo_32px.png\" width=\"20px\" height=\"20px\"/>\n",
    "      Run in Colab\n",
    "    </a>\n",
    "  </td>\n",
    "  <td style=\"padding-left:1em\">\n",
    "    <a target=\"_blank\" class=\"button\" href=\"https://github.com//davidcavazos/md2ipynb/blob/master/examples/code/hello-world.py\">\n",
    "      <img src=\"https://www.tensorflow.org/images/GitHub-Mark-32px.png\" width=\"20px\" height=\"20px\"/>\n",
    "      View on GitHub\n",
    "    </a>\n",
    "  </td>\n",
    "</table>\n",
    "<br/>\n",
    "\n",
    "You are all done!"
   ]
  },
  {
   "cell_type": "markdown",
   "metadata": {
    "id": "html-section"
   },
   "source": [
    "## HTML Section\n",
    "\n",
    "<p>HTML is also supported since Markdown is a superset of HTML</p>"
   ]
  },
  {
   "cell_type": "markdown",
   "metadata": {
    "id": "what-s-next"
   },
   "source": [
    "## What's next\n",
    "\n",
    "Check the [README.md](https://github.com/davidcavazos/md2ipynb/blob/master/README.md) for more instructions."
   ]
  }
 ],
 "metadata": {
  "colab": {
   "name": "Hello World!",
   "toc_visible": true
  },
  "kernelspec": {
   "display_name": "Python 3",
   "language": "python",
   "name": "python3"
  },
  "language_info": {
   "codemirror_mode": {
    "name": "ipython",
    "version": 3
   },
   "file_extension": ".py",
   "mimetype": "text/x-python",
   "name": "python",
   "nbconvert_exporter": "python",
   "pygments_lexer": "ipython3",
   "version": "3.7.3"
  }
 },
 "nbformat": 4,
 "nbformat_minor": 2
}
